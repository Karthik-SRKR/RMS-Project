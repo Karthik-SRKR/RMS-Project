{
 "cells": [
  {
   "cell_type": "markdown",
   "metadata": {},
   "source": [
    "# Restaurant Management System (RMS)\n",
    " \n",
    "It is an application designed for the managing of the customers data. We can store it efficiently and manipulate it as per our convinience. In this mainly there are 4 Operations to perform.\n",
    "\n",
    "It is mainly designed for the waiters to make Data storage of the Orders, bills easy way.\n",
    "\n",
    "1. Add order\n",
    "2. Update order\n",
    "3. Fetch order\n",
    "4. Generate Bill"
   ]
  },
  {
   "cell_type": "markdown",
   "metadata": {},
   "source": [
    "![Home Window](output_photos/img1.png)"
   ]
  },
  {
   "cell_type": "markdown",
   "metadata": {},
   "source": [
    "##### Using the buttons in the \"Order Manipulation Portal\", we can perform the mentioned Operations"
   ]
  },
  {
   "cell_type": "markdown",
   "metadata": {},
   "source": [
    "### 1. Add Order\n",
    "![add order window](output_photos/img2.png)"
   ]
  },
  {
   "cell_type": "markdown",
   "metadata": {},
   "source": [
    "##### by filling and clicking \"Submit\" button, the customer details goes to the storage-file \"RMS_db.xlsx\"\n",
    "##### if we want to change descision then click \"back\" button to return main RMS-window\n",
    " ![submitted order details](output_photos/img3.png)"
   ]
  },
  {
   "cell_type": "markdown",
   "metadata": {},
   "source": [
    "##### Later the Order of the customer is assigned with an \"Order-ID\".\n",
    "##### If the customer already exists in the data (i.e, customer wants to extend his orders) then Order-ID will be same as the previous generated Order-ID.\n",
    "![Order-Id generation](output_photos/img4.png)"
   ]
  },
  {
   "cell_type": "markdown",
   "metadata": {},
   "source": [
    "### 2. Update Order\n",
    "![update order window](output_photos/img5.png)"
   ]
  },
  {
   "cell_type": "markdown",
   "metadata": {},
   "source": [
    "##### If the given order-ID is valid then it gives the access to change previously ordered Items\n",
    "![update order Items](output_photos/img6.png)"
   ]
  },
  {
   "cell_type": "markdown",
   "metadata": {},
   "source": [
    "##### by clicking the \"update\" button, the details of Items ordered be changed in the database.\n",
    "![update alertBox](output_photos/img7.png)"
   ]
  },
  {
   "cell_type": "markdown",
   "metadata": {},
   "source": [
    "### 3. Fetch Orders\n",
    "![fetch orders window](output_photos/img8.png)"
   ]
  },
  {
   "cell_type": "markdown",
   "metadata": {},
   "source": [
    "##### It is about the past Items you ordered till now\n",
    "##### clicking \"Done!\" button will again return to main RMS-window"
   ]
  },
  {
   "cell_type": "markdown",
   "metadata": {},
   "source": [
    "##### -> In any of the window, If you enter a wrong Order-ID or invalid Order-ID , it raises an alert-window\n",
    "![alert1](output_photos/img10.png)![alert2](output_photos/img11.png)"
   ]
  },
  {
   "cell_type": "markdown",
   "metadata": {},
   "source": [
    "### 4. Generate Bill\n",
    "![generate bill window](output_photos/img9.png)"
   ]
  },
  {
   "cell_type": "markdown",
   "metadata": {},
   "source": [
    "- If the customer pays the Bill amount, then waiter would close the billing-window by clicking \"Done!\" button it again return to main RMS-window"
   ]
  }
 ],
 "metadata": {
  "kernelspec": {
   "display_name": "venv",
   "language": "python",
   "name": "python3"
  },
  "language_info": {
   "codemirror_mode": {
    "name": "ipython",
    "version": 3
   },
   "file_extension": ".py",
   "mimetype": "text/x-python",
   "name": "python",
   "nbconvert_exporter": "python",
   "pygments_lexer": "ipython3",
   "version": "3.12.4"
  }
 },
 "nbformat": 4,
 "nbformat_minor": 2
}
